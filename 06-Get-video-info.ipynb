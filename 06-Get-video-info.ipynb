{
 "cells": [
  {
   "cell_type": "code",
   "execution_count": 1,
   "id": "baac1bb5",
   "metadata": {},
   "outputs": [],
   "source": [
    "import ffmpeg"
   ]
  },
  {
   "cell_type": "code",
   "execution_count": 2,
   "id": "fa0df075",
   "metadata": {},
   "outputs": [
    {
     "data": {
      "text/plain": [
       "{'streams': [{'index': 0,\n",
       "   'codec_name': 'h264',\n",
       "   'codec_long_name': 'H.264 / AVC / MPEG-4 AVC / MPEG-4 part 10',\n",
       "   'profile': 'Main',\n",
       "   'codec_type': 'video',\n",
       "   'codec_time_base': '1001/60000',\n",
       "   'codec_tag_string': 'avc1',\n",
       "   'codec_tag': '0x31637661',\n",
       "   'width': 320,\n",
       "   'height': 240,\n",
       "   'coded_width': 320,\n",
       "   'coded_height': 240,\n",
       "   'closed_captions': 0,\n",
       "   'has_b_frames': 0,\n",
       "   'sample_aspect_ratio': '1:1',\n",
       "   'display_aspect_ratio': '4:3',\n",
       "   'pix_fmt': 'yuv420p',\n",
       "   'level': 13,\n",
       "   'chroma_location': 'left',\n",
       "   'refs': 1,\n",
       "   'is_avc': 'true',\n",
       "   'nal_length_size': '4',\n",
       "   'r_frame_rate': '30000/1001',\n",
       "   'avg_frame_rate': '30000/1001',\n",
       "   'time_base': '1/90000',\n",
       "   'start_pts': 0,\n",
       "   'start_time': '0.000000',\n",
       "   'duration_ts': 627627,\n",
       "   'duration': '6.973633',\n",
       "   'bit_rate': '251413',\n",
       "   'bits_per_raw_sample': '8',\n",
       "   'nb_frames': '209',\n",
       "   'disposition': {'default': 1,\n",
       "    'dub': 0,\n",
       "    'original': 0,\n",
       "    'comment': 0,\n",
       "    'lyrics': 0,\n",
       "    'karaoke': 0,\n",
       "    'forced': 0,\n",
       "    'hearing_impaired': 0,\n",
       "    'visual_impaired': 0,\n",
       "    'clean_effects': 0,\n",
       "    'attached_pic': 0,\n",
       "    'timed_thumbnails': 0},\n",
       "   'tags': {'language': 'und', 'handler_name': 'VideoHandler'}},\n",
       "  {'index': 1,\n",
       "   'codec_name': 'aac',\n",
       "   'codec_long_name': 'AAC (Advanced Audio Coding)',\n",
       "   'profile': 'LC',\n",
       "   'codec_type': 'audio',\n",
       "   'codec_time_base': '1/44100',\n",
       "   'codec_tag_string': 'mp4a',\n",
       "   'codec_tag': '0x6134706d',\n",
       "   'sample_fmt': 'fltp',\n",
       "   'sample_rate': '44100',\n",
       "   'channels': 2,\n",
       "   'channel_layout': 'stereo',\n",
       "   'bits_per_sample': 0,\n",
       "   'r_frame_rate': '0/0',\n",
       "   'avg_frame_rate': '0/0',\n",
       "   'time_base': '1/44100',\n",
       "   'start_pts': 0,\n",
       "   'start_time': '0.000000',\n",
       "   'duration_ts': 310272,\n",
       "   'duration': '7.035646',\n",
       "   'bit_rate': '125587',\n",
       "   'max_bit_rate': '125587',\n",
       "   'nb_frames': '303',\n",
       "   'disposition': {'default': 1,\n",
       "    'dub': 0,\n",
       "    'original': 0,\n",
       "    'comment': 0,\n",
       "    'lyrics': 0,\n",
       "    'karaoke': 0,\n",
       "    'forced': 0,\n",
       "    'hearing_impaired': 0,\n",
       "    'visual_impaired': 0,\n",
       "    'clean_effects': 0,\n",
       "    'attached_pic': 0,\n",
       "    'timed_thumbnails': 0},\n",
       "   'tags': {'language': 'und', 'handler_name': 'SoundHandler'}}],\n",
       " 'format': {'filename': 'input.mp4',\n",
       "  'nb_streams': 2,\n",
       "  'nb_programs': 0,\n",
       "  'format_name': 'mov,mp4,m4a,3gp,3g2,mj2',\n",
       "  'format_long_name': 'QuickTime / MOV',\n",
       "  'start_time': '0.000000',\n",
       "  'duration': '7.036000',\n",
       "  'size': '336833',\n",
       "  'bit_rate': '382982',\n",
       "  'probe_score': 100,\n",
       "  'tags': {'major_brand': 'isom',\n",
       "   'minor_version': '512',\n",
       "   'compatible_brands': 'isomiso2avc1mp41',\n",
       "   'encoder': 'Lavf57.71.100'}}}"
      ]
     },
     "execution_count": 2,
     "metadata": {},
     "output_type": "execute_result"
    }
   ],
   "source": [
    "probe = ffmpeg.probe('input.mp4')\n",
    "probe"
   ]
  },
  {
   "cell_type": "code",
   "execution_count": 3,
   "id": "cb3ea933",
   "metadata": {},
   "outputs": [],
   "source": [
    "video_stream = next((stream for stream in probe['streams'] if stream['codec_type'] == 'video'), None)\n",
    "width = int(video_stream['width'])\n",
    "height = int(video_stream['height'])"
   ]
  },
  {
   "cell_type": "code",
   "execution_count": 4,
   "id": "739f6756",
   "metadata": {},
   "outputs": [
    {
     "name": "stdout",
     "output_type": "stream",
     "text": [
      "width: 320, height: 240\n"
     ]
    }
   ],
   "source": [
    "print(\"width: {}, height: {}\".format(width, height))"
   ]
  }
 ],
 "metadata": {
  "kernelspec": {
   "display_name": "tf2.5",
   "language": "python",
   "name": "tensorflow_25"
  },
  "language_info": {
   "codemirror_mode": {
    "name": "ipython",
    "version": 3
   },
   "file_extension": ".py",
   "mimetype": "text/x-python",
   "name": "python",
   "nbconvert_exporter": "python",
   "pygments_lexer": "ipython3",
   "version": "3.8.10"
  }
 },
 "nbformat": 4,
 "nbformat_minor": 5
}
