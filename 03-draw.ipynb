{
 "cells": [
  {
   "cell_type": "code",
   "execution_count": 3,
   "id": "baac1bb5",
   "metadata": {},
   "outputs": [],
   "source": [
    "from IPython.display import Video\n",
    "import ffmpeg"
   ]
  },
  {
   "cell_type": "code",
   "execution_count": 2,
   "id": "fa0df075",
   "metadata": {},
   "outputs": [],
   "source": [
    "stream = ffmpeg.input('input.mp4')\n",
    "stream = ffmpeg.drawbox(stream, 90, 40, 140, 160, color='red', thickness=5)"
   ]
  },
  {
   "cell_type": "code",
   "execution_count": 3,
   "id": "e85badda",
   "metadata": {},
   "outputs": [
    {
     "data": {
      "text/plain": [
       "output(filename='output_drawbox.mp4')[None] <13f3c13a5f35>"
      ]
     },
     "execution_count": 3,
     "metadata": {},
     "output_type": "execute_result"
    }
   ],
   "source": [
    "out = ffmpeg.output(stream, 'output_drawbox.mp4')\n",
    "out"
   ]
  },
  {
   "cell_type": "code",
   "execution_count": 4,
   "id": "487d3f00",
   "metadata": {},
   "outputs": [
    {
     "data": {
      "text/plain": [
       "(None, None)"
      ]
     },
     "execution_count": 4,
     "metadata": {},
     "output_type": "execute_result"
    }
   ],
   "source": [
    "ffmpeg.run(out)"
   ]
  },
  {
   "cell_type": "code",
   "execution_count": 5,
   "id": "b2a52d1a",
   "metadata": {},
   "outputs": [
    {
     "data": {
      "text/html": [
       "<video src=\"output_drawbox.mp4\" controls  >\n",
       "      Your browser does not support the <code>video</code> element.\n",
       "    </video>"
      ],
      "text/plain": [
       "<IPython.core.display.Video object>"
      ]
     },
     "execution_count": 5,
     "metadata": {},
     "output_type": "execute_result"
    }
   ],
   "source": [
    "Video('output_drawbox.mp4')"
   ]
  },
  {
   "cell_type": "code",
   "execution_count": 6,
   "id": "739f6756",
   "metadata": {},
   "outputs": [
    {
     "data": {
      "text/plain": [
       "(None, None)"
      ]
     },
     "execution_count": 6,
     "metadata": {},
     "output_type": "execute_result"
    }
   ],
   "source": [
    "(ffmpeg.input('input.mp4')\n",
    "    .drawbox(90, 40, 140, 160, color='red', thickness=5)\n",
    "    .output('output_drawbox2.mp4')\n",
    "    .run())"
   ]
  },
  {
   "cell_type": "markdown",
   "id": "1421b7f2",
   "metadata": {},
   "source": [
    "# overlay"
   ]
  },
  {
   "cell_type": "code",
   "execution_count": 7,
   "id": "ce0a526f",
   "metadata": {},
   "outputs": [],
   "source": [
    "stream = ffmpeg.input('input.mp4')\n",
    "overlay_file = ffmpeg.input('cvision.png')"
   ]
  },
  {
   "cell_type": "code",
   "execution_count": 8,
   "id": "b06a946e",
   "metadata": {},
   "outputs": [],
   "source": [
    "stream = ffmpeg.overlay(stream, overlay_file, x=30, y=50)"
   ]
  },
  {
   "cell_type": "code",
   "execution_count": 9,
   "id": "db5c4dd9",
   "metadata": {},
   "outputs": [
    {
     "data": {
      "text/plain": [
       "(None, None)"
      ]
     },
     "execution_count": 9,
     "metadata": {},
     "output_type": "execute_result"
    }
   ],
   "source": [
    "out = ffmpeg.output(stream, 'output_overlay.mp4')\n",
    "ffmpeg.run(out)"
   ]
  },
  {
   "cell_type": "code",
   "execution_count": 10,
   "id": "b1aa1f1d",
   "metadata": {},
   "outputs": [
    {
     "data": {
      "text/html": [
       "<video src=\"output_overlay.mp4\" controls  >\n",
       "      Your browser does not support the <code>video</code> element.\n",
       "    </video>"
      ],
      "text/plain": [
       "<IPython.core.display.Video object>"
      ]
     },
     "execution_count": 10,
     "metadata": {},
     "output_type": "execute_result"
    }
   ],
   "source": [
    "Video('output_overlay.mp4')"
   ]
  },
  {
   "cell_type": "markdown",
   "id": "f5ed93b7",
   "metadata": {},
   "source": [
    "# text"
   ]
  },
  {
   "cell_type": "code",
   "execution_count": 4,
   "id": "3fa656b3",
   "metadata": {},
   "outputs": [],
   "source": [
    "stream = ffmpeg.input('input.mp4')\n",
    "text = \"Hello world\""
   ]
  },
  {
   "cell_type": "code",
   "execution_count": 5,
   "id": "d701e7b8",
   "metadata": {},
   "outputs": [
    {
     "data": {
      "text/html": [
       "<video src=\"output_text.mp4\" controls  >\n",
       "      Your browser does not support the <code>video</code> element.\n",
       "    </video>"
      ],
      "text/plain": [
       "<IPython.core.display.Video object>"
      ]
     },
     "execution_count": 5,
     "metadata": {},
     "output_type": "execute_result"
    }
   ],
   "source": [
    "stream = ffmpeg.drawtext(stream, text, x=100, y= 100, escape_text=False)\n",
    "out = ffmpeg.output(stream, 'output_text.mp4')\n",
    "ffmpeg.run(out)\n",
    "Video('output_text.mp4')"
   ]
  },
  {
   "cell_type": "code",
   "execution_count": null,
   "id": "1b3001b0",
   "metadata": {},
   "outputs": [],
   "source": []
  }
 ],
 "metadata": {
  "kernelspec": {
   "display_name": "tf2.5",
   "language": "python",
   "name": "tensorflow_25"
  },
  "language_info": {
   "codemirror_mode": {
    "name": "ipython",
    "version": 3
   },
   "file_extension": ".py",
   "mimetype": "text/x-python",
   "name": "python",
   "nbconvert_exporter": "python",
   "pygments_lexer": "ipython3",
   "version": "3.8.10"
  }
 },
 "nbformat": 4,
 "nbformat_minor": 5
}
