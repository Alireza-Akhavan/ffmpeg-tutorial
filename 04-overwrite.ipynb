{
 "cells": [
  {
   "cell_type": "code",
   "execution_count": 8,
   "id": "baac1bb5",
   "metadata": {},
   "outputs": [],
   "source": [
    "from IPython.display import Video\n",
    "import ffmpeg"
   ]
  },
  {
   "cell_type": "code",
   "execution_count": 10,
   "id": "fa0df075",
   "metadata": {},
   "outputs": [],
   "source": [
    "stream = ffmpeg.input('input.mp4')\n",
    "stream = ffmpeg.hflip(stream)"
   ]
  },
  {
   "cell_type": "code",
   "execution_count": 12,
   "id": "e85badda",
   "metadata": {},
   "outputs": [
    {
     "data": {
      "text/plain": [
       "(None, None)"
      ]
     },
     "execution_count": 12,
     "metadata": {},
     "output_type": "execute_result"
    }
   ],
   "source": [
    "out = ffmpeg.output(stream, 'output.mp4')\n",
    "out = ffmpeg.overwrite_output(out)\n",
    "ffmpeg.run(out)"
   ]
  },
  {
   "cell_type": "code",
   "execution_count": 13,
   "id": "b2a52d1a",
   "metadata": {},
   "outputs": [
    {
     "data": {
      "text/html": [
       "<video src=\"output.mp4\" controls  >\n",
       "      Your browser does not support the <code>video</code> element.\n",
       "    </video>"
      ],
      "text/plain": [
       "<IPython.core.display.Video object>"
      ]
     },
     "execution_count": 13,
     "metadata": {},
     "output_type": "execute_result"
    }
   ],
   "source": [
    "Video('output.mp4')"
   ]
  },
  {
   "cell_type": "code",
   "execution_count": 14,
   "id": "739f6756",
   "metadata": {},
   "outputs": [
    {
     "data": {
      "text/plain": [
       "(None, None)"
      ]
     },
     "execution_count": 14,
     "metadata": {},
     "output_type": "execute_result"
    }
   ],
   "source": [
    "(ffmpeg.input('input.mp4')\n",
    "    .hflip()\n",
    "    .output('output2.mp4')\n",
    "    .overwrite_output()\n",
    "    .run())"
   ]
  }
 ],
 "metadata": {
  "kernelspec": {
   "display_name": "tf2.5",
   "language": "python",
   "name": "tensorflow_25"
  },
  "language_info": {
   "codemirror_mode": {
    "name": "ipython",
    "version": 3
   },
   "file_extension": ".py",
   "mimetype": "text/x-python",
   "name": "python",
   "nbconvert_exporter": "python",
   "pygments_lexer": "ipython3",
   "version": "3.8.10"
  }
 },
 "nbformat": 4,
 "nbformat_minor": 5
}
