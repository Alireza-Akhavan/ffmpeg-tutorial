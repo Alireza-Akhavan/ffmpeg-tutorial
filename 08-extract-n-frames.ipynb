{
 "cells": [
  {
   "cell_type": "code",
   "execution_count": 74,
   "id": "8b212437",
   "metadata": {},
   "outputs": [],
   "source": [
    "YOUR_FILE = 'data/lip (12).mp4'\n",
    "PARTS = 10"
   ]
  },
  {
   "cell_type": "code",
   "execution_count": 75,
   "id": "a45fc791",
   "metadata": {},
   "outputs": [
    {
     "name": "stdout",
     "output_type": "stream",
     "text": [
      "for 10 parts we extract 2.54 fps from video with 3.55 seconds\n"
     ]
    },
    {
     "data": {
      "text/plain": [
       "(352, 640)"
      ]
     },
     "execution_count": 75,
     "metadata": {},
     "output_type": "execute_result"
    }
   ],
   "source": [
    "import ffmpeg\n",
    "\n",
    "probe = ffmpeg.probe(YOUR_FILE)\n",
    "time = float(probe['streams'][0]['duration'])\n",
    "width = probe['streams'][0]['width']\n",
    "height = probe['streams'][0]['height']\n",
    "\n",
    "# Set how many spots you want to extract a video from. \n",
    "parts = PARTS - 1\n",
    "fps = round (parts / time, 2)\n",
    "\n",
    "print(\"for {} parts we extract {} fps from video with {:.2f} seconds\". format(PARTS, fps, time))\n",
    "(width, height)"
   ]
  },
  {
   "cell_type": "code",
   "execution_count": 76,
   "id": "e19aebe4",
   "metadata": {},
   "outputs": [
    {
     "data": {
      "text/plain": [
       "(10, 640, 352, 3)"
      ]
     },
     "execution_count": 76,
     "metadata": {},
     "output_type": "execute_result"
    }
   ],
   "source": [
    "stream = ffmpeg.input(YOUR_FILE)\n",
    "stream = ffmpeg.filter(stream, 'fps', fps=fps, round='up')\n",
    "stream = ffmpeg.output(stream, 'pipe:', format='rawvideo', pix_fmt='rgb24')\n",
    "out, _ = ffmpeg.run(stream, capture_stdout=True)\n",
    "\n",
    "video = (\n",
    "    np\n",
    "    .frombuffer(out, np.uint8)\n",
    "    .reshape([-1, height, width, 3])\n",
    ")\n",
    "video.shape"
   ]
  }
 ],
 "metadata": {
  "kernelspec": {
   "display_name": "tf2.5",
   "language": "python",
   "name": "tensorflow_25"
  },
  "language_info": {
   "codemirror_mode": {
    "name": "ipython",
    "version": 3
   },
   "file_extension": ".py",
   "mimetype": "text/x-python",
   "name": "python",
   "nbconvert_exporter": "python",
   "pygments_lexer": "ipython3",
   "version": "3.8.10"
  }
 },
 "nbformat": 4,
 "nbformat_minor": 5
}
